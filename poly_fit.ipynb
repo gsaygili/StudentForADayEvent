{
 "cells": [
  {
   "cell_type": "code",
   "execution_count": 1,
   "id": "91ffafb2",
   "metadata": {
    "id": "91ffafb2"
   },
   "outputs": [],
   "source": [
    "import numpy as np\n",
    "import matplotlib.pyplot as plt\n",
    "from sklearn import linear_model"
   ]
  },
  {
   "cell_type": "code",
   "execution_count": 2,
   "id": "986506b5",
   "metadata": {
    "colab": {
     "base_uri": "https://localhost:8080/"
    },
    "id": "986506b5",
    "outputId": "f3a01f9d-ea80-457b-8536-9faa857c7e08"
   },
   "outputs": [
    {
     "name": "stdout",
     "output_type": "stream",
     "text": [
      "[[1.66808802e+00 2.88129797e+00 4.57499269e-04 1.20933029e+00\n",
      "  5.87023563e-01 3.69354379e-01 7.45040846e-01 1.38224291e+00\n",
      "  1.58706990e+00 2.15526694e+00 1.67677806e+00 2.74087800e+00\n",
      "  8.17808999e-01 3.51246975e+00 1.09550373e-01 2.68187004e+00\n",
      "  1.66921921e+00 2.23475931e+00 5.61547754e-01 7.92405956e-01\n",
      "  3.20297827e+00 3.87304630e+00 1.25369671e+00 2.76929046e+00\n",
      "  3.50555661e+00 3.57842665e+00 3.40176845e-01 1.56219133e-01\n",
      "  6.79321678e-01 3.51257001e+00 3.93387335e-01 1.68443050e+00\n",
      "  3.83155812e+00 2.13266114e+00 2.76750846e+00 1.26206252e+00\n",
      "  2.74600371e+00 3.33850269e+00 7.31531094e-02 3.00057726e+00]]\n"
     ]
    }
   ],
   "source": [
    "np.random.seed(seed=1)\n",
    "x = 4*np.random.rand(40,1)\n",
    "print(x.transpose())"
   ]
  },
  {
   "cell_type": "code",
   "execution_count": 3,
   "id": "4df1cfae",
   "metadata": {
    "colab": {
     "base_uri": "https://localhost:8080/",
     "height": 283
    },
    "id": "4df1cfae",
    "outputId": "54707189-0cb4-405b-e24f-ffb58db9d6b1"
   },
   "outputs": [
    {
     "data": {
      "text/plain": [
       "<matplotlib.collections.PathCollection at 0x1e25d437d90>"
      ]
     },
     "execution_count": 3,
     "metadata": {},
     "output_type": "execute_result"
    },
    {
     "data": {
      "image/png": "[encoded data removed]",
      "text/plain": [
       "<Figure size 432x288 with 1 Axes>"
      ]
     },
     "metadata": {
      "needs_background": "light"
     },
     "output_type": "display_data"
    }
   ],
   "source": [
    "y_gt = 5 + 15 * x - 3*pow(x,2) + 5*pow(x,3) \n",
    "plt.figure(1)\n",
    "plt.scatter(x,y_gt)"
   ]
  },
  {
   "cell_type": "code",
   "execution_count": 4,
   "id": "1aaf525f",
   "metadata": {
    "colab": {
     "base_uri": "https://localhost:8080/",
     "height": 283
    },
    "id": "1aaf525f",
    "outputId": "721fbef8-e01f-4d4c-a16e-e96145c9d31b"
   },
   "outputs": [
    {
     "data": {
      "text/plain": [
       "<matplotlib.collections.PathCollection at 0x1e25dbd8e20>"
      ]
     },
     "execution_count": 4,
     "metadata": {},
     "output_type": "execute_result"
    },
    {
     "data": {
      "image/png": "[encoded data removed]",
      "text/plain": [
       "<Figure size 432x288 with 1 Axes>"
      ]
     },
     "metadata": {
      "needs_background": "light"
     },
     "output_type": "display_data"
    }
   ],
   "source": [
    "noise  = 40*np.random.rand(40,1)\n",
    "\n",
    "y = y_gt + noise\n",
    "\n",
    "plt.figure(2)\n",
    "plt.scatter(x, y)"
   ]
  },
  {
   "cell_type": "code",
   "execution_count": 5,
   "id": "c521579e",
   "metadata": {
    "id": "c521579e"
   },
   "outputs": [],
   "source": [
    "# train-test split\n",
    "x_train = x[:30]\n",
    "y_train = y[:30]\n",
    "x_val = x[30:35]\n",
    "y_val = y[30:35]\n",
    "x_test = x[35:40]\n",
    "y_test = y[35:40]"
   ]
  },
  {
   "cell_type": "code",
   "execution_count": 6,
   "id": "06a55b5f",
   "metadata": {
    "colab": {
     "base_uri": "https://localhost:8080/"
    },
    "id": "06a55b5f",
    "outputId": "04b96439-2ca6-4b24-849d-be016b492d43"
   },
   "outputs": [
    {
     "name": "stdout",
     "output_type": "stream",
     "text": [
      "Coefficient(s) \n",
      " [[67.59417615]]\n",
      "Bias term: \n",
      " [-15.31932726]\n"
     ]
    }
   ],
   "source": [
    "# now we will fit a line based on our analytical solution\n",
    "# y_hat = mx+b\n",
    "regr = linear_model.LinearRegression()\n",
    "x_train = x_train.reshape((30,1))\n",
    "x_val = x_val.reshape((5,1))\n",
    "x_test = x_test.reshape((5,1))\n",
    "regr.fit(x_train, y_train)\n",
    "m = regr.coef_\n",
    "b = regr.intercept_\n",
    "print(\"Coefficient(s) \\n\", m)\n",
    "print(\"Bias term: \\n\", b)"
   ]
  },
  {
   "cell_type": "code",
   "execution_count": 7,
   "id": "a8c6b3e1",
   "metadata": {
    "id": "a8c6b3e1"
   },
   "outputs": [],
   "source": [
    "y_pred_train = regr.predict(x_train)\n",
    "y_pred_val = regr.predict(x_val) \n",
    "y_pred_test = regr.predict(x_test)"
   ]
  },
  {
   "cell_type": "code",
   "execution_count": 8,
   "id": "a2208234",
   "metadata": {
    "colab": {
     "base_uri": "https://localhost:8080/",
     "height": 265
    },
    "id": "a2208234",
    "outputId": "0ccd4b8d-fd4a-4f64-d151-d347f469ecea"
   },
   "outputs": [
    {
     "data": {
      "image/png": "[encoded data removed]",
      "text/plain": [
       "<Figure size 432x288 with 1 Axes>"
      ]
     },
     "metadata": {
      "needs_background": "light"
     },
     "output_type": "display_data"
    }
   ],
   "source": [
    "plt.figure(3)\n",
    "# plot points\n",
    "plt.plot(x_train, y_train, 'o', color='black');\n",
    "plt.plot(x_val, y_val, 'o', color='green');\n",
    "plt.plot(x_test, y_test, 'o', color='red');\n",
    "# plot fitted line\n",
    "plt.plot(x_train,y_pred_train,color='blue')\n",
    "# plot residual lines\n",
    "plt.vlines(x_train, y_train, y_pred_train, colors='k')\n",
    "plt.vlines(x_val, y_val, y_pred_val, colors='g')\n",
    "plt.vlines(x_test, y_test, y_pred_test, colors='r')\n",
    "plt.show()"
   ]
  },
  {
   "cell_type": "code",
   "execution_count": 9,
   "id": "f681da19",
   "metadata": {
    "colab": {
     "base_uri": "https://localhost:8080/"
    },
    "id": "f681da19",
    "outputId": "c807fd9d-59d4-433c-e5ec-21e6109ee195"
   },
   "outputs": [
    {
     "name": "stdout",
     "output_type": "stream",
     "text": [
      "MAE on training samples:  27.452127737149528\n",
      "MAE on validation samples:  39.11909433734325\n",
      "MAE on validation samples:  19.679365674707952\n"
     ]
    }
   ],
   "source": [
    "err_train = np.sum(np.abs(y_pred_train-y_train))/y_train.shape[0]\n",
    "print(\"MAE on training samples: \", err_train)\n",
    "\n",
    "err_val = np.sum(np.abs(y_pred_val-y_val))/y_val.shape[0]\n",
    "print(\"MAE on validation samples: \", err_val)\n",
    "\n",
    "err_test = np.sum(np.abs(y_pred_test-y_test))/y_test.shape[0]\n",
    "print(\"MAE on validation samples: \", err_test)"
   ]
  },
  {
   "cell_type": "code",
   "execution_count": 10,
   "id": "93e4e779",
   "metadata": {
    "colab": {
     "base_uri": "https://localhost:8080/"
    },
    "id": "93e4e779",
    "outputId": "8be25f23-95da-4293-dcb1-9384593bce4e"
   },
   "outputs": [
    {
     "name": "stdout",
     "output_type": "stream",
     "text": [
      "Coefficient(s) \n",
      "        2\n",
      "25.04 x - 27.65 x + 38.34\n"
     ]
    }
   ],
   "source": [
    "# polynomial fit\n",
    "# let's start with a quadratic polynomial\n",
    "p2 = np.poly1d(np.polyfit(np.squeeze(x_train), np.squeeze(y_train), deg=2))\n",
    "print(\"Coefficient(s) \\n\", p2)\n",
    "y2_pred_train = np.polyval(p2,x_train)\n",
    "y2_pred_val = np.polyval(p2,x_val)\n",
    "y2_pred_test = np.polyval(p2,x_test)"
   ]
  },
  {
   "cell_type": "code",
   "execution_count": 11,
   "id": "NBUQWzzAcSeK",
   "metadata": {
    "colab": {
     "base_uri": "https://localhost:8080/",
     "height": 265
    },
    "id": "NBUQWzzAcSeK",
    "outputId": "772fec52-e32f-4d56-a7cc-da77dbd75371"
   },
   "outputs": [
    {
     "data": {
      "image/png": "[encoded data removed]",
      "text/plain": [
       "<Figure size 432x288 with 1 Axes>"
      ]
     },
     "metadata": {
      "needs_background": "light"
     },
     "output_type": "display_data"
    }
   ],
   "source": [
    "plt.figure(4)\n",
    "# plot points\n",
    "plt.plot(x_train, y_train, 'o', color='black');\n",
    "plt.plot(x_val, y_val, 'o', color='green');\n",
    "plt.plot(x_test, y_test, 'o', color='red');\n",
    "# plot fitted line\n",
    "t = np.linspace(np.min(x), np.max(x), 200)\n",
    "plt.plot(t, p2(t), '-', color='blue')\n",
    "# plot residual lines\n",
    "plt.vlines(x_train, y_train, y2_pred_train, colors='k')\n",
    "plt.vlines(x_val, y_val, y2_pred_val, colors='g')\n",
    "plt.vlines(x_test, y_test, y2_pred_test, colors='r')\n",
    "plt.show()"
   ]
  },
  {
   "cell_type": "code",
   "execution_count": 12,
   "id": "zQ8Uab74m2vC",
   "metadata": {
    "colab": {
     "base_uri": "https://localhost:8080/"
    },
    "id": "zQ8Uab74m2vC",
    "outputId": "116e70e4-479b-4182-8c70-fbf39d2e870f"
   },
   "outputs": [
    {
     "name": "stdout",
     "output_type": "stream",
     "text": [
      "MAE on training samples for 2nd degree polynomial:  11.744664134300466\n",
      "MAE on validation samples for 2nd degree polynomial:  10.294142335165713\n",
      "MAE on validation samples for 2nd degree polynomial:  6.1237187738131125\n"
     ]
    }
   ],
   "source": [
    "err_train = np.sum(np.abs(y2_pred_train-y_train))/y_train.shape[0]\n",
    "print(\"MAE on training samples for 2nd degree polynomial: \", err_train)\n",
    "\n",
    "err_val = np.sum(np.abs(y2_pred_val-y_val))/y_val.shape[0]\n",
    "print(\"MAE on validation samples for 2nd degree polynomial: \", err_val)\n",
    "\n",
    "err_test = np.sum(np.abs(y2_pred_test-y_test))/y_test.shape[0]\n",
    "print(\"MAE on validation samples for 2nd degree polynomial: \", err_test)"
   ]
  },
  {
   "cell_type": "code",
   "execution_count": 13,
   "id": "oVg5LqB102Kz",
   "metadata": {
    "colab": {
     "base_uri": "https://localhost:8080/"
    },
    "id": "oVg5LqB102Kz",
    "outputId": "8b0b9802-b994-4d9e-c870-83ada1ae1a74"
   },
   "outputs": [
    {
     "name": "stdout",
     "output_type": "stream",
     "text": [
      "Coefficient(s) \n",
      "        3         2\n",
      "7.178 x - 15.52 x + 31.42 x + 21.7\n"
     ]
    }
   ],
   "source": [
    "# let's start with a quadratic polynomial\n",
    "p3 = np.poly1d(np.polyfit(np.squeeze(x_train), np.squeeze(y_train), deg=3))\n",
    "print(\"Coefficient(s) \\n\", p3)\n",
    "y3_pred_train = np.polyval(p3,x_train)\n",
    "y3_pred_val = np.polyval(p3,x_val)\n",
    "y3_pred_test = np.polyval(p3,x_test)"
   ]
  },
  {
   "cell_type": "code",
   "execution_count": 14,
   "id": "fjQzfpH61J2i",
   "metadata": {
    "colab": {
     "base_uri": "https://localhost:8080/",
     "height": 265
    },
    "id": "fjQzfpH61J2i",
    "outputId": "2cc74f94-51ad-4e90-f640-d9a18b0f178b"
   },
   "outputs": [
    {
     "data": {
      "image/png": "[encoded data removed]",
      "text/plain": [
       "<Figure size 432x288 with 1 Axes>"
      ]
     },
     "metadata": {
      "needs_background": "light"
     },
     "output_type": "display_data"
    }
   ],
   "source": [
    "plt.figure(5)\n",
    "# plot points\n",
    "plt.plot(x_train, y_train, 'o', color='black');\n",
    "plt.plot(x_val, y_val, 'o', color='green');\n",
    "plt.plot(x_test, y_test, 'o', color='red');\n",
    "# plot fitted line\n",
    "t = np.linspace(np.min(x), np.max(x), 200)\n",
    "plt.plot(t, p3(t), '-', color='blue')\n",
    "# plot residual lines\n",
    "plt.vlines(x_train, y_train, y3_pred_train, colors='k')\n",
    "plt.vlines(x_val, y_val, y3_pred_val, colors='g')\n",
    "plt.vlines(x_test, y_test, y3_pred_test, colors='r')\n",
    "plt.show()"
   ]
  },
  {
   "cell_type": "code",
   "execution_count": 15,
   "id": "loDpwMaP1Vsa",
   "metadata": {
    "colab": {
     "base_uri": "https://localhost:8080/"
    },
    "id": "loDpwMaP1Vsa",
    "outputId": "558c1083-8850-4f7a-efef-7a7e016578b7"
   },
   "outputs": [
    {
     "name": "stdout",
     "output_type": "stream",
     "text": [
      "MAE on training samples for 3rd degree polynomial:  8.991775281764115\n",
      "MAE on validation samples for 3rd degree polynomial:  12.229569687434687\n",
      "MAE on validation samples for 3rd degree polynomial:  13.996337750489904\n"
     ]
    }
   ],
   "source": [
    "err_train = np.sum(np.abs(y3_pred_train-y_train))/y_train.shape[0]\n",
    "print(\"MAE on training samples for 3rd degree polynomial: \", err_train)\n",
    "\n",
    "err_val = np.sum(np.abs(y3_pred_val-y_val))/y_val.shape[0]\n",
    "print(\"MAE on validation samples for 3rd degree polynomial: \", err_val)\n",
    "\n",
    "err_test = np.sum(np.abs(y3_pred_test-y_test))/y_test.shape[0]\n",
    "print(\"MAE on validation samples for 3rd degree polynomial: \", err_test)"
   ]
  },
  {
   "cell_type": "code",
   "execution_count": 16,
   "id": "f-QeidIl1lny",
   "metadata": {
    "colab": {
     "base_uri": "https://localhost:8080/"
    },
    "id": "f-QeidIl1lny",
    "outputId": "d1a741f2-8902-4265-9a2c-a625d7aec07a"
   },
   "outputs": [
    {
     "name": "stdout",
     "output_type": "stream",
     "text": [
      "Coefficient(s) \n",
      "         19         18        17             16             15\n",
      "-3.862 x  + 116.4 x  - 1538 x  + 1.141e+04 x  - 4.862e+04 x \n",
      "              14             13             12             11\n",
      " + 8.419e+04 x  + 3.101e+05 x  - 2.753e+06 x  + 1.033e+07 x \n",
      "              10             9             8             7\n",
      " - 2.507e+07 x  + 4.292e+07 x - 5.315e+07 x + 4.767e+07 x\n",
      "              6             5             4             3             2\n",
      " - 3.051e+07 x + 1.352e+07 x - 3.954e+06 x + 7.049e+05 x - 6.724e+04 x + 2661 x + 15.07\n"
     ]
    },
    {
     "name": "stderr",
     "output_type": "stream",
     "text": [
      "C:\\Users\\gorkem\\anaconda3\\envs\\ML\\lib\\site-packages\\IPython\\core\\interactiveshell.py:3369: RankWarning: Polyfit may be poorly conditioned\n",
      "  exec(code_obj, self.user_global_ns, self.user_ns)\n"
     ]
    }
   ],
   "source": [
    "# let's start with a 19th degree polynomial\n",
    "p19 = np.poly1d(np.polyfit(np.squeeze(x_train), np.squeeze(y_train), deg=19))\n",
    "print(\"Coefficient(s) \\n\", p19)\n",
    "y19_pred_train = np.polyval(p19,x_train)\n",
    "y19_pred_val = np.polyval(p19,x_val)\n",
    "y19_pred_test = np.polyval(p19,x_test)"
   ]
  },
  {
   "cell_type": "code",
   "execution_count": 17,
   "id": "2ZGD8n0F1yXA",
   "metadata": {
    "colab": {
     "base_uri": "https://localhost:8080/",
     "height": 265
    },
    "id": "2ZGD8n0F1yXA",
    "outputId": "756dc3ed-f3e0-46cb-b16c-ccda32d6c3a9"
   },
   "outputs": [
    {
     "data": {
      "image/png": "[encoded data removed]",
      "text/plain": [
       "<Figure size 432x288 with 1 Axes>"
      ]
     },
     "metadata": {
      "needs_background": "light"
     },
     "output_type": "display_data"
    }
   ],
   "source": [
    "plt.figure(6)\n",
    "# plot points\n",
    "plt.plot(x_train, y_train, 'o', color='black');\n",
    "plt.plot(x_val, y_val, 'o', color='green');\n",
    "plt.plot(x_test, y_test, 'o', color='red');\n",
    "# plot fitted line\n",
    "t = np.linspace(np.min(x), np.max(x), 200)\n",
    "plt.plot(t, p19(t), '-', color='blue')\n",
    "# plot residual lines\n",
    "plt.vlines(x_train, y_train, y19_pred_train, colors='k')\n",
    "plt.vlines(x_val, y_val, y19_pred_val, colors='g')\n",
    "plt.vlines(x_test, y_test, y19_pred_test, colors='r')\n",
    "plt.show()"
   ]
  },
  {
   "cell_type": "code",
   "execution_count": 18,
   "id": "tOC4hSwJ14pA",
   "metadata": {
    "colab": {
     "base_uri": "https://localhost:8080/"
    },
    "id": "tOC4hSwJ14pA",
    "outputId": "042e967e-c088-4d1e-fd81-a924b0d2434f"
   },
   "outputs": [
    {
     "name": "stdout",
     "output_type": "stream",
     "text": [
      "MAE on training samples for 19th degree polynomial:  5.895627010060591\n",
      "MAE on validation samples for 19th degree polynomial:  135.5981361420823\n",
      "MAE on validation samples for 19th degree polynomial:  30.58071259912365\n"
     ]
    }
   ],
   "source": [
    "err_train = np.sum(np.abs(y19_pred_train-y_train))/y_train.shape[0]\n",
    "print(\"MAE on training samples for 19th degree polynomial: \", err_train)\n",
    "\n",
    "err_val = np.sum(np.abs(y19_pred_val-y_val))/y_val.shape[0]\n",
    "print(\"MAE on validation samples for 19th degree polynomial: \", err_val)\n",
    "\n",
    "err_test = np.sum(np.abs(y19_pred_test-y_test))/y_test.shape[0]\n",
    "print(\"MAE on validation samples for 19th degree polynomial: \", err_test)"
   ]
  },
  {
   "cell_type": "code",
   "execution_count": null,
   "id": "PO8u6qRW2Afh",
   "metadata": {
    "id": "PO8u6qRW2Afh"
   },
   "outputs": [],
   "source": []
  }
 ],
 "metadata": {
  "colab": {
   "provenance": []
  },
  "kernelspec": {
   "display_name": "Python 3 (ipykernel)",
   "language": "python",
   "name": "python3"
  },
  "language_info": {
   "codemirror_mode": {
    "name": "ipython",
    "version": 3
   },
   "file_extension": ".py",
   "mimetype": "text/x-python",
   "name": "python",
   "nbconvert_exporter": "python",
   "pygments_lexer": "ipython3",
   "version": "3.8.12"
  }
 },
 "nbformat": 4,
 "nbformat_minor": 5
}
